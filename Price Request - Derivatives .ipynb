{
 "cells": [
  {
   "attachments": {
    "powered%20by%20Refinitv.jpg": {
     "image/jpeg": "[encoded data removed]"
    }
   },
   "cell_type": "markdown",
   "metadata": {},
   "source": [
    "![powered%20by%20Refinitv.jpg](attachment:powered%20by%20Refinitv.jpg)\n",
    "\n",
    "<center>\n",
    "    <h3></h3>\n",
    "    <h1> Derivatives - Prices</h1>\n",
    "</center>\n",
    "\n",
    "<center>\n",
    "    <b>Gabriel Esquivel, Research Analyst</b>\n",
    "</center>\n",
    "\n",
    "<center>\n",
    "    <i>January 2020</i>\n",
    "</center>\n"
   ]
  },
  {
   "cell_type": "markdown",
   "metadata": {},
   "source": [
    "## **<span style=\"color:blue\">Contents</span>** \n",
    "\n",
    "* [Introduction](#Introduction)\n",
    "* [Get the API Eikon Module](#Get-the-API-Eikon-Module)\n",
    "* [Eikon Feed RICs](#Eikon-Feed-RICs)\n",
    "    * [Exchange Rates from Eikon](#Exchange-Rates-from-Eikon)\n",
    "* [Importing Check Values](#Importing-Check-Values)\n",
    "    * [Merge between Check and Eikon Feed Rics](#Merge-between-Check-and-Eikon-Feed-Rics)\n",
    "* [Validation DDBB](#Validation-DDBB)\n",
    "    * [Merge between Check and Validation](#Merge-between-Check-and-Validation)\n",
    "* [Money Markets DDBB](#Money-Markets-DDBB)    \n",
    "    * [Merge between Check and Money Markets](#Merge-between-Check-and-Money-Markets)\n",
    "* [Results from the 3 sources constrasted with Check](#Results-from-the-3-sources-constrasted-with-Check)   \n",
    "* [Getting all data at once](#Getting-all-data-at-once)   \n",
    "* [Quality Check](#Quality-Check)   \n",
    "    * [Compare between Today and Yesterday Prices](#Compare-between-Today-and-Yesterday-Prices)\n",
    "* [Stale Prices](#Stale-Prices)   \n",
    "\n"
   ]
  },
  {
   "cell_type": "markdown",
   "metadata": {},
   "source": [
    "## **<span style=\"color:blue\">Introduction</span>** \n",
    "<!-- blank line -->\n",
    "----\n",
    "<!-- blank line -->\n",
    "\n",
    "The Eikon application integrates a Data API proxy that acts as an interface between the Eikon Data API Python library and the Eikon Data Platform. For this reason, the Eikon application must be running when you use the Eikon Data API Python library.\n",
    "\n",
    "The main purpose of this Jupyter notebook is..."
   ]
  },
  {
   "cell_type": "markdown",
   "metadata": {},
   "source": [
    "## **<span style=\"color:blue\">Get the API Eikon Module</span>** \n",
    "<!-- blank line -->\n",
    "----\n",
    "<!-- blank line -->\n",
    "\n",
    "Every application using the Eikon Data API must identify itself thanks to a Key called Application Key or App Key for short. This Key, that is a unique identifier for your application, must be created using the App Key Generator Eikon app that you can find in the Eikon App Library or via the toolbar of Eikon.\n",
    "\n",
    "For more information about, click on the following link: \n",
    "\n",
    "https://developers.refinitiv.com/eikon-apis/eikon-data-api/quick-start\n",
    "\n",
    "The main modules that will be used are: Pandas, Eikon API, Math , and xlsxwriter..."
   ]
  },
  {
   "cell_type": "code",
   "execution_count": null,
   "metadata": {},
   "outputs": [],
   "source": [
    "import eikon as ek\n",
    "ek.set_app_key('d241df4abf1248f78d100e148241dfc267401d0f')\n",
    "import pandas as pd \n",
    "import os \n",
    "import glob\n",
    "#import qgrid\n",
    "from IPython.display import display\n",
    "import ipywidgets as widgets\n",
    "import numpy as np\n",
    "import csv\n",
    "import time \n",
    "from datetime import datetime, timedelta\n",
    "import pymysql\n",
    "import sys\n",
    "import ipysheet\n",
    "from ipysheet import from_dataframe, to_dataframe\n",
    "import mysql.connector"
   ]
  },
  {
   "cell_type": "markdown",
   "metadata": {},
   "source": [
    "## **<span style=\"color:blue\">Eikon Feed RICs</span>** "
   ]
  },
  {
   "cell_type": "markdown",
   "metadata": {},
   "source": [
    "<p style='text-align: justify;'>The starting point of this Jupyter Notebook will be importing the cusips that the Derivatives team in Costa Rica receives daily. With these identifiers, the prices of each of the associated bonds in local currency will be extracted</p>\n",
    "\n",
    "These identifiers are imported as a list of elements which will allow them to be used directly as an object within the `ek.get_data` function."
   ]
  },
  {
   "cell_type": "code",
   "execution_count": null,
   "metadata": {
    "scrolled": true
   },
   "outputs": [],
   "source": [
    "instruments = []\n",
    "\n",
    "\n",
    "with open(\"/Users/u6075486/Desktop/Davenport/NNS/CUSIPS NONEST/CUSIPS - NONEST.csv\") as csvDataFile:\n",
    "    csvReader = csv.reader(csvDataFile)\n",
    "    for row in csvReader:\n",
    "        for ric in row:\n",
    "            instruments.append(ric)         \n",
    "            \n",
    "df,e = ek.get_data(instruments,['CURRENCY','PRIMACT_1'])\n",
    "new_names = {'Instrument':'RIC', 'CURRENCY':'Currency', 'PRIMACT_1':'Price_Local_Currency'}\n",
    "Prices_LC = df.rename(index = str, columns = new_names)\n",
    "Prices_LC = Prices_LC[['Currency', 'RIC','Price_Local_Currency']]\n",
    "Prices_LC.head()\n"
   ]
  },
  {
   "cell_type": "markdown",
   "metadata": {},
   "source": [
    "<p style='text-align: justify;'>Once the cusips are imported and the prices in local currency of the associated bonds have been extracted, the cusips and the rics will be imported again to make a merge and obtain as a result a table where I get ric, cusip, price and currency</p>\n",
    "\n",
    "This is done for convenience since the `ek.get_data` function does not accept dataframes. The table obtained as a result is shown below."
   ]
  },
  {
   "cell_type": "code",
   "execution_count": null,
   "metadata": {
    "scrolled": false
   },
   "outputs": [],
   "source": [
    "os.chdir(\"/Users/u6075486/Desktop/Davenport/NNS\")\n",
    "nns = pd.read_csv(\"CUSIPS - RICS.csv\",delimiter=',')\n",
    "data_filtered = nns.loc[:,['CUSIP','RIC']]\n",
    "Merge_Cusips_Rics = Prices_LC.merge(data_filtered, on='RIC', how = \"left\")\n",
    "Merge_Cusips_Rics.head()"
   ]
  },
  {
   "cell_type": "markdown",
   "metadata": {},
   "source": [
    "### **<span style=\"color:blue\">Exchange Rates from Eikon</span>** \n",
    "<!-- blank line -->\n",
    "----\n",
    "<!-- blank line -->\n",
    "\n",
    "To convert the prices from local currency bonds to US dollars, the following steps will be taken:\n",
    "\n",
    "* Step 1: A list of all currencies from which the exchange rate can be calculated is imported. This was extracted from Global Currencies FX spot rate in Eikon, know as `FX=`\n",
    "\n",
    "* Step 2: Make a table where the bid and ask exchange rate is obtained in US dollars, and the hour of the last time that the exchange rate was updated\n",
    "\n",
    "* Step 3: Import a dictionary where is specified whether the exchange rate to USD is directly or indirectly. This will allow to build a table where we can get the currency, the exchange rate (Bid) and if it is calculated directly or indirectly. This table is named `Exchange_Rates_1`\n",
    "\n",
    "* Step 4: With the table obtained in the previous step, a \"vlookup\" is made with the `.merge` function with the cusips that are initially used. This results in a table where it gets the following variables: Currency, RIC, Price in local currency, Cusip, Exchange rate (Bid) and Method (Direct or Indirect).This table is named `data_frame`\n",
    "\n",
    "* Step 5: Finally, the exchange rate in USD is estimated. Once the calculation is made, a table is obtained with the RICs, Cusips and the price in USD. This table is named `Data_Prices`"
   ]
  },
  {
   "cell_type": "code",
   "execution_count": null,
   "metadata": {},
   "outputs": [],
   "source": [
    "FX = []\n",
    "\n",
    "with open(\"/Users/u6075486/Desktop/Davenport/RIC/RIC_FX.csv\") as csvDataFile:\n",
    "    csvReader = csv.reader(csvDataFile)\n",
    "    for row in csvReader:\n",
    "        for ric in row:\n",
    "            FX.append(ric)"
   ]
  },
  {
   "cell_type": "code",
   "execution_count": null,
   "metadata": {},
   "outputs": [],
   "source": [
    "df1,err = ek.get_data(FX,['BID','ASK','TIMACT'])\n",
    "Currencies = df1['Instrument'].str[:3]\n",
    "df1['Currencies'] = Currencies\n",
    "df1.to_excel(\"FX.xlsx\", sheet_name='FX')\n",
    "df1.head()"
   ]
  },
  {
   "cell_type": "code",
   "execution_count": null,
   "metadata": {},
   "outputs": [],
   "source": [
    "indirect_direct = []\n",
    "\n",
    "with open(\"/Users/u6075486/Desktop/Davenport/Direct_Indirect/DIRECT_INDIRECT_FX.csv\") as csvDataFile:\n",
    "    csvReader = csv.reader(csvDataFile)\n",
    "    for row in csvReader:\n",
    "        for ric in row:\n",
    "            indirect_direct.append(ric)            \n",
    "            \n",
    "DIR_INDIR = indirect_direct\n",
    "\n",
    "df1['Direct_Indirect'] = indirect_direct\n",
    "\n",
    "new_names2 = {'Instrument': 'RIC','BID':'FX_Bid', 'ASK':'FX_Ask','Currencies':'Currency','Direct_Indirect':'Direct_Indirect'}\n",
    "Exchange_Rates = df1.rename(index = str, columns = new_names2)\n",
    "\n",
    "\n",
    "Exchange_Rates_1 = Exchange_Rates.loc[:, [\"FX_Bid\", \"Currency\",\"Direct_Indirect\" ]]\n",
    "Exchange_Rates_1 = Exchange_Rates_1[['Currency','FX_Bid','Direct_Indirect']]\n",
    "Exchange_Rates_1.head()"
   ]
  },
  {
   "cell_type": "code",
   "execution_count": null,
   "metadata": {
    "scrolled": true
   },
   "outputs": [],
   "source": [
    "data_frame = Merge_Cusips_Rics.merge(Exchange_Rates_1, on='Currency', how = \"left\")\n",
    "data_frame.head()"
   ]
  },
  {
   "cell_type": "code",
   "execution_count": null,
   "metadata": {
    "scrolled": true
   },
   "outputs": [],
   "source": [
    "data_frame.loc[data_frame['Direct_Indirect'] == 'DIRECT', 'Price_USD'] = data_frame['Price_Local_Currency']/data_frame['FX_Bid']\n",
    "data_frame.loc[data_frame['Direct_Indirect'] == 'INDIRECT', 'Price_USD'] = data_frame['Price_Local_Currency']*data_frame['FX_Bid']\n",
    "data_frame.loc[data_frame['Direct_Indirect'] == '', 'Price_USD'] = 'No Value'\n",
    "new_names3 = {'Price_USD':'Price'}\n",
    "result_1 = data_frame.rename(index = str, columns = new_names3)\n",
    "result_2 = result_1.loc[:,['RIC','Price','CUSIP']]\n",
    "#result_2.to_excel(\"data_frame.xlsx\", sheet_name='data_frame')\n",
    "result_2.head()\n",
    "new_names4 = {'Price':'Price USD'}\n",
    "result_3 = data_frame.rename(index = str, columns = new_names4)\n",
    "Data_Prices = result_3.loc[:,['RIC','Price_USD','CUSIP']]\n",
    "Data_Prices.head()"
   ]
  },
  {
   "cell_type": "markdown",
   "metadata": {},
   "source": [
    "## **<span style=\"color:blue\">Importing Check Values</span>** \n",
    "\n",
    "<!-- blank line -->\n",
    "----\n",
    "<!-- blank line -->\n",
    "\n",
    "Check is the portfolio in which the bonds that interest customers are located.Once we have this Cusips, there will be a .merge with each of the sources"
   ]
  },
  {
   "cell_type": "code",
   "execution_count": null,
   "metadata": {
    "scrolled": true
   },
   "outputs": [],
   "source": [
    "os.chdir(\"/Users/u6075486/Desktop/Davenport/Check\")\n",
    "check = pd.read_csv(\"Check_Davenport.csv\")\n",
    "check.head()\n",
    "new_names5 = {'CUSIP / ISIN':'CUSIP'}\n",
    "Check_1 = check.rename(index = str, columns = new_names5)\n",
    "Check_1.head()"
   ]
  },
  {
   "cell_type": "markdown",
   "metadata": {},
   "source": [
    "### **<span style=\"color:blue\">Merge between Check and Eikon Feed Rics</span>** "
   ]
  },
  {
   "cell_type": "code",
   "execution_count": null,
   "metadata": {
    "scrolled": true
   },
   "outputs": [],
   "source": [
    "data_frame_1 = Data_Prices.merge(Check_1, on='CUSIP', how = \"inner\")\n",
    "data_frame_2 = data_frame_1.loc[:,['CUSIP','Price_USD']]\n",
    "data_frame_1.to_excel(\"Eikon Feed.xlsx\", sheet_name='EF')\n",
    "data_frame_2.head()"
   ]
  },
  {
   "cell_type": "markdown",
   "metadata": {},
   "source": [
    "## **<span style=\"color:blue\">Validation DDBB</span>** "
   ]
  },
  {
   "cell_type": "code",
   "execution_count": null,
   "metadata": {
    "scrolled": false
   },
   "outputs": [],
   "source": [
    "os.chdir(\"/Users/u6075486/Desktop/Davenport/Validation\")\n",
    "validation = pd.read_csv(\"Validation.txt\",delimiter=';')\n",
    "new_names6 = {'Price':'Price_USD'}\n",
    "validation_1 = validation.rename(index = str, columns = new_names6)\n",
    "validation_2 = validation_1.loc[:,['CUSIP','Price_USD']]\n",
    "validation_2.head()"
   ]
  },
  {
   "cell_type": "markdown",
   "metadata": {},
   "source": [
    "### **<span style=\"color:blue\">Merge between Check and Validation</span>** "
   ]
  },
  {
   "cell_type": "code",
   "execution_count": null,
   "metadata": {},
   "outputs": [],
   "source": [
    "data_frame_validation = Check_1.merge(validation_2, on='CUSIP', how = \"inner\")\n",
    "data_frame_validation_2 = data_frame_validation.loc[:,['CUSIP','Price_USD']]\n",
    "data_frame_validation_2.to_excel(\"Validation Feed.xlsx\", sheet_name='VA')\n",
    "data_frame_validation_2.head()"
   ]
  },
  {
   "cell_type": "markdown",
   "metadata": {},
   "source": [
    "## **<span style=\"color:blue\">Money Markets DDBB</span>** "
   ]
  },
  {
   "cell_type": "code",
   "execution_count": null,
   "metadata": {},
   "outputs": [],
   "source": [
    "os.chdir(r\"C:\\Users\\u6075486\\Desktop\\Davenport\\New Adds\")\n",
    "extension = 'csv'\n",
    "\n",
    "all_filenames = [\n",
    "    j for j in glob.glob('*.{}'.format(extension))]\n",
    "\n",
    "New_Adds = pd.concat([pd.read_csv(j) for j in all_filenames], sort = True)\n",
    "New_Adds_NA= New_Adds.replace(np.nan, '', regex=True)\n",
    "New_Adds_NA_1 = New_Adds_NA.loc[:,['Client Identifier','Price']]\n",
    "new_names7 = {'Client Identifier':'CUSIP', 'Price':'Price_USD'}\n",
    "New_Adds_NA_2 = New_Adds_NA_1.rename(index = str, columns = new_names7)\n",
    "New_Adds_NA_2.head()"
   ]
  },
  {
   "cell_type": "markdown",
   "metadata": {},
   "source": [
    "### **<span style=\"color:blue\">Merge between Check and Money Markets</span>** "
   ]
  },
  {
   "cell_type": "code",
   "execution_count": null,
   "metadata": {
    "scrolled": true
   },
   "outputs": [],
   "source": [
    "data_frame_Money_Market = New_Adds_NA_2.merge(Check_1, on='CUSIP', how = \"inner\")\n",
    "data_frame_Money_Market_1 = data_frame_Money_Market.loc[:,['CUSIP','Price_USD']]\n",
    "data_frame_Money_Market_1.to_excel(\"Money Market Feed.xlsx\", sheet_name='MM')\n",
    "data_frame_Money_Market_1.head()"
   ]
  },
  {
   "cell_type": "markdown",
   "metadata": {},
   "source": [
    "## **<span style=\"color:blue\">Results from the 3 sources constrasted with Check</span>** "
   ]
  },
  {
   "cell_type": "code",
   "execution_count": null,
   "metadata": {
    "scrolled": true
   },
   "outputs": [],
   "source": [
    "data_frame_Eikon_1= data_frame_2\n",
    "lenght1= len(data_frame_Eikon_1)\n",
    "lenght1"
   ]
  },
  {
   "cell_type": "code",
   "execution_count": null,
   "metadata": {},
   "outputs": [],
   "source": [
    "data_frame_validation_2.head()\n",
    "lenght2= len(data_frame_validation_2)\n",
    "lenght2"
   ]
  },
  {
   "cell_type": "code",
   "execution_count": null,
   "metadata": {
    "scrolled": true
   },
   "outputs": [],
   "source": [
    "data_frame_Money_Market_1.head()\n",
    "lenght3= len(data_frame_Money_Market_1)\n",
    "lenght3"
   ]
  },
  {
   "cell_type": "markdown",
   "metadata": {},
   "source": [
    "## **<span style=\"color:blue\">Getting all data at once</span>**"
   ]
  },
  {
   "cell_type": "code",
   "execution_count": null,
   "metadata": {
    "scrolled": false
   },
   "outputs": [],
   "source": [
    "import time \n",
    "\n",
    "os.chdir(r\"C:\\Users\\u6075486\\Desktop\\Davenport\\QA\")\n",
    "extension = 'csv'\n",
    "\n",
    "data_joined = pd.concat([data_frame_Eikon_1, data_frame_validation_2, data_frame_Money_Market_1])\n",
    "lenght4 = len(data_joined)\n",
    "print(lenght4)\n",
    "data_result=data_joined.drop_duplicates()\n",
    "\n",
    "TodaysDate = time.strftime(\"%m-%d-%Y\")\n",
    "excelfilename = TodaysDate + \".xlsx\"\n",
    "data_result.to_excel(excelfilename, sheet_name='Result')    \n",
    "    \n",
    "#ata_result.to_excel('%m-%d-%Y.xlsx', sheet_name='Result')\n",
    "lenght5= len(data_result)\n",
    "lenght5\n",
    "Today_Prices = data_result\n",
    "\n",
    "Today_Prices = Today_Prices.round(decimals=3)\n",
    "\n",
    "Today_Prices.head()"
   ]
  },
  {
   "cell_type": "markdown",
   "metadata": {},
   "source": [
    "## **<span style=\"color:blue\">Quality Check</span>**\n",
    "<!-- blank line -->\n",
    "----\n",
    "<!-- blank line -->\n"
   ]
  },
  {
   "cell_type": "code",
   "execution_count": null,
   "metadata": {},
   "outputs": [],
   "source": [
    "from datetime import datetime, timedelta\n",
    "yestarday_file = datetime.strftime(datetime.now() - timedelta(1), '%m-%d-%Y' + \".xlsx\")\n",
    "yestarday_file"
   ]
  },
  {
   "cell_type": "code",
   "execution_count": null,
   "metadata": {
    "scrolled": true
   },
   "outputs": [],
   "source": [
    "path = \"/Users/u6075486/Desktop/Davenport/QA\"\n",
    "\n",
    "os.chdir(\"/Users/u6075486/Desktop/Davenport/QA\")\n",
    "\n",
    "Yestarday = pd.read_excel(f'{path}/{yestarday_file}')\n",
    "Yest_Prices = Yestarday.loc[:,['CUSIP','Price_USD']]\n",
    "\n",
    "Yest_Prices = Yest_Prices.round(decimals=4)\n",
    "\n",
    "Yest_Prices.head()"
   ]
  },
  {
   "cell_type": "markdown",
   "metadata": {},
   "source": [
    "### **<span style=\"color:blue\">Compare between Today and Previous Prices </span>** \n",
    "<!-- blank line -->\n",
    "----\n",
    "<!-- blank line -->"
   ]
  },
  {
   "cell_type": "code",
   "execution_count": null,
   "metadata": {
    "scrolled": true
   },
   "outputs": [],
   "source": [
    "Compare_table = Today_Prices.merge(Yest_Prices, on='CUSIP', how = \"outer\")\n",
    "new_names_1 = {'Price_USD_x':'Today_Price', 'Price_USD_y':'Previous_Price'}\n",
    "Compare_table_1 = Compare_table.rename(index = str, columns = new_names_1)\n",
    "\n",
    "Difference = Compare_table_1['Today_Price'] - Compare_table_1['Previous_Price'] \n",
    "\n",
    "Abs_Difference = Difference.abs()\n",
    "\n",
    "Compare_table_1['Abs_Difference'] = Abs_Difference\n",
    "Compare_table_1['Difference'] = Difference\n",
    "\n",
    "Table_Dif= Compare_table_1.sort_values('Abs_Difference', ascending = False)\n",
    "\n",
    "Table_Dif['Check Box']= np.array(\"True\", dtype='bool')\n",
    "\n",
    "os.chdir(\"/Users/u6075486/Desktop/Davenport/Result\")\n",
    "data = Table_Dif.to_excel(\"True or False.xlsx\")"
   ]
  },
  {
   "cell_type": "markdown",
   "metadata": {},
   "source": [
    "### **<span style=\"color:blue\">Final Prices </span>** \n",
    "<!-- blank line -->\n",
    "----\n",
    "<!-- blank line -->"
   ]
  },
  {
   "cell_type": "code",
   "execution_count": null,
   "metadata": {
    "scrolled": true
   },
   "outputs": [],
   "source": [
    "os.chdir(\"/Users/u6075486/Desktop/Davenport/Result\")\n",
    "\n",
    "Table_Last= pd.read_excel(\"True or False.xlsx\",delimiter=',')\n",
    "\n",
    "Table_Last= pd.read_excel(\"True or False.xlsx\",delimiter=',')\n",
    "Table_Last.loc[Table_Last['Check Box'] == True, 'Final_Price'] = Table_Last['Today_Price']\n",
    "Table_Last.loc[Table_Last['Check Box'] == False, 'Final_Price'] = Table_Last['Previous_Price']\n",
    "Table_Last.loc[Table_Last['Check Box'] == 'NaN', 'Final_Price'] = 'NaN'\n",
    "Table_Last1 = Table_Last.loc[:,['CUSIP','Final_Price']]\n",
    "Table_Last1.head()"
   ]
  },
  {
   "cell_type": "markdown",
   "metadata": {},
   "source": [
    "## **<span style=\"color:blue\">Stale Prices</span>**"
   ]
  },
  {
   "cell_type": "code",
   "execution_count": 6,
   "metadata": {
    "scrolled": true
   },
   "outputs": [
    {
     "name": "stdout",
     "output_type": "stream",
     "text": [
      "Connected to DB:localhost\n",
      "Succuessfully loaded the table from csv.\n"
     ]
    }
   ],
   "source": [
    "def csv_to_mysql(laod_sql,host,user,password):\n",
    "      try: \n",
    "        con = pymysql.connect(host=host,\n",
    "                      user=user, \n",
    "                      password=password,\n",
    "                      autocommit=True,\n",
    "                      local_infile=1)\n",
    "        \n",
    "        print(\"Connected to DB:{}\".format(host))\n",
    "        cursor = con.cursor()\n",
    "        cursor.execute(load_sql)\n",
    "        print('Succuessfully loaded the table from csv.')\n",
    "        con.close()\n",
    "        \n",
    "        remove_all_files\n",
    "        \n",
    "      except Exception as e:\n",
    "        print('Error: {}'.format(str(e)))\n",
    "        sys.exit(1)\n",
    "        \n",
    "load_sql = \"LOAD DATA LOCAL INFILE 'c:/temp/test2.txt' INTO TABLE davenport.bonds\\\n",
    " FIELDS TERMINATED BY ';'\"\n",
    "host = 'localhost'\n",
    "user = 'root'\n",
    "password = 'gabo200489'\n",
    "csv_to_mysql(load_sql, host, user, password)"
   ]
  },
  {
   "cell_type": "code",
   "execution_count": 7,
   "metadata": {},
   "outputs": [
    {
     "data": {
      "text/html": [
       "<div>\n",
       "<style scoped>\n",
       "    .dataframe tbody tr th:only-of-type {\n",
       "        vertical-align: middle;\n",
       "    }\n",
       "\n",
       "    .dataframe tbody tr th {\n",
       "        vertical-align: top;\n",
       "    }\n",
       "\n",
       "    .dataframe thead th {\n",
       "        text-align: right;\n",
       "    }\n",
       "</style>\n",
       "<table border=\"1\" class=\"dataframe\">\n",
       "  <thead>\n",
       "    <tr style=\"text-align: right;\">\n",
       "      <th></th>\n",
       "      <th>CUSIP</th>\n",
       "      <th>Price</th>\n",
       "      <th>Spot</th>\n",
       "      <th>Date_Priced</th>\n",
       "      <th>Broker</th>\n",
       "    </tr>\n",
       "  </thead>\n",
       "  <tbody>\n",
       "    <tr>\n",
       "      <td>0</td>\n",
       "      <td>000336462CH7</td>\n",
       "      <td>60.50</td>\n",
       "      <td></td>\n",
       "      <td>10/08/2019</td>\n",
       "      <td>RIC_Quote\\r\\r</td>\n",
       "    </tr>\n",
       "    <tr>\n",
       "      <td>1</td>\n",
       "      <td>00254EMA7</td>\n",
       "      <td>108.00</td>\n",
       "      <td></td>\n",
       "      <td>03/17/2020</td>\n",
       "      <td>Barclays\\r\\r</td>\n",
       "    </tr>\n",
       "    <tr>\n",
       "      <td>2</td>\n",
       "      <td>00279VCD5</td>\n",
       "      <td>99.35</td>\n",
       "      <td></td>\n",
       "      <td>03/20/2020</td>\n",
       "      <td>Barclays\\r\\r</td>\n",
       "    </tr>\n",
       "    <tr>\n",
       "      <td>3</td>\n",
       "      <td>02687YAA9</td>\n",
       "      <td>97.00</td>\n",
       "      <td></td>\n",
       "      <td>03/17/2020</td>\n",
       "      <td>Barclays\\r\\r</td>\n",
       "    </tr>\n",
       "    <tr>\n",
       "      <td>4</td>\n",
       "      <td>045491JU2</td>\n",
       "      <td>100.08</td>\n",
       "      <td></td>\n",
       "      <td>06/28/2019</td>\n",
       "      <td>Navian\\r\\r</td>\n",
       "    </tr>\n",
       "    <tr>\n",
       "      <td>...</td>\n",
       "      <td>...</td>\n",
       "      <td>...</td>\n",
       "      <td>...</td>\n",
       "      <td>...</td>\n",
       "      <td>...</td>\n",
       "    </tr>\n",
       "    <tr>\n",
       "      <td>41520</td>\n",
       "      <td>XS2138370445</td>\n",
       "      <td>193.88</td>\n",
       "      <td></td>\n",
       "      <td>03/25/2020</td>\n",
       "      <td>HSBC\\r\\r</td>\n",
       "    </tr>\n",
       "    <tr>\n",
       "      <td>41521</td>\n",
       "      <td>XS2138430876</td>\n",
       "      <td>96.79</td>\n",
       "      <td></td>\n",
       "      <td>03/25/2020</td>\n",
       "      <td>HSBC\\r\\r</td>\n",
       "    </tr>\n",
       "    <tr>\n",
       "      <td>41522</td>\n",
       "      <td>XS2138684209</td>\n",
       "      <td>95.09</td>\n",
       "      <td></td>\n",
       "      <td>03/25/2020</td>\n",
       "      <td>HSBC\\r\\r</td>\n",
       "    </tr>\n",
       "    <tr>\n",
       "      <td>41523</td>\n",
       "      <td>XS2138684381</td>\n",
       "      <td>100.23</td>\n",
       "      <td></td>\n",
       "      <td>03/25/2020</td>\n",
       "      <td>HSBC\\r\\r</td>\n",
       "    </tr>\n",
       "    <tr>\n",
       "      <td>41524</td>\n",
       "      <td>XS2145467101</td>\n",
       "      <td>104.93</td>\n",
       "      <td></td>\n",
       "      <td>03/25/2020</td>\n",
       "      <td>HSBC\\r\\r</td>\n",
       "    </tr>\n",
       "  </tbody>\n",
       "</table>\n",
       "<p>41525 rows × 5 columns</p>\n",
       "</div>"
      ],
      "text/plain": [
       "              CUSIP   Price Spot Date_Priced         Broker\n",
       "0      000336462CH7   60.50       10/08/2019  RIC_Quote\\r\\r\n",
       "1         00254EMA7  108.00       03/17/2020   Barclays\\r\\r\n",
       "2         00279VCD5   99.35       03/20/2020   Barclays\\r\\r\n",
       "3         02687YAA9   97.00       03/17/2020   Barclays\\r\\r\n",
       "4         045491JU2  100.08       06/28/2019     Navian\\r\\r\n",
       "...             ...     ...  ...         ...            ...\n",
       "41520  XS2138370445  193.88       03/25/2020       HSBC\\r\\r\n",
       "41521  XS2138430876   96.79       03/25/2020       HSBC\\r\\r\n",
       "41522  XS2138684209   95.09       03/25/2020       HSBC\\r\\r\n",
       "41523  XS2138684381  100.23       03/25/2020       HSBC\\r\\r\n",
       "41524  XS2145467101  104.93       03/25/2020       HSBC\\r\\r\n",
       "\n",
       "[41525 rows x 5 columns]"
      ]
     },
     "execution_count": 7,
     "metadata": {},
     "output_type": "execute_result"
    }
   ],
   "source": [
    "connection = mysql.connector.connect(host = 'localhost',\n",
    "                                    user = 'root',\n",
    "                                    passwd = 'gabo200489',\n",
    "                                    db = 'davenport')\n",
    "bonds_table = pd.read_sql_query(\"select * from bonds\", connection)\n",
    "bonds_table"
   ]
  },
  {
   "cell_type": "code",
   "execution_count": null,
   "metadata": {},
   "outputs": [],
   "source": [
    "def remove_all_files:\n",
    "files = glob.glob(r'C:\\Users\\u6075486\\Desktop\\Test')\n",
    "for f in files:\n",
    "    os.remove(f)\n",
    "    \n",
    "remove_all_files"
   ]
  }
 ],
 "metadata": {
  "kernelspec": {
   "display_name": "Python 3",
   "language": "python",
   "name": "python3"
  },
  "language_info": {
   "codemirror_mode": {
    "name": "ipython",
    "version": 3
   },
   "file_extension": ".py",
   "mimetype": "text/x-python",
   "name": "python",
   "nbconvert_exporter": "python",
   "pygments_lexer": "ipython3",
   "version": "3.8.5"
  }
 },
 "nbformat": 4,
 "nbformat_minor": 2
}
